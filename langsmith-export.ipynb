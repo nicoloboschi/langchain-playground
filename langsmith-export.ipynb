{
 "cells": [
  {
   "cell_type": "markdown",
   "id": "4bb0606c-8831-4563-a2d3-e951610d199f",
   "metadata": {},
   "source": [
    "# Export LangSmith Dataset tests and aggregate by metadata\n",
    "\n",
    "The goal is to generate plots aggregating result sets from a specific dataset and aggregate the result over-time by a pre-defined project metadata key."
   ]
  },
  {
   "cell_type": "code",
   "execution_count": null,
   "id": "75f9fa55-e29d-4740-ba8f-a9bb93c2c32f",
   "metadata": {
    "scrolled": true
   },
   "outputs": [],
   "source": [
    "!pip install langsmith matplotlib"
   ]
  },
  {
   "cell_type": "code",
   "execution_count": null,
   "id": "5eebd73e-5706-456a-b5ec-87183e955c0d",
   "metadata": {},
   "outputs": [],
   "source": [
    "from getpass import getpass\n",
    "import os\n",
    "os.environ[\"LANGCHAIN_API_KEY\"] = getpass(\"LangSmith API Key: \")\n",
    "dataset_name = input(\"Dataset name: \")\n",
    "metadata_key = input(\"Project metadata key: \")"
   ]
  },
  {
   "cell_type": "code",
   "execution_count": null,
   "id": "cf2f5fe2-1f0f-43e3-9738-272df244ef43",
   "metadata": {},
   "outputs": [],
   "source": [
    "import os\n",
    "import dataclasses\n",
    "import datetime\n",
    "\n",
    "from dataclasses import dataclass\n",
    "from typing import List\n",
    "from langsmith import Client\n",
    "\n",
    "@dataclass\n",
    "class RunStats:\n",
    "    ts: datetime\n",
    "    latency: float\n",
    "    total_tokens: int\n",
    "    feedbacks: dict[str, float]\n",
    "\n",
    "use_existing = \"\"\n",
    "\n",
    "client = Client()\n",
    "examples = client.list_examples(dataset_name=dataset_name)\n",
    "\n",
    "runs_by_key = {}\n",
    "feedback_set = []\n",
    "for example in examples:\n",
    "\n",
    "    runs = client.list_runs(reference_example_id=example.id)\n",
    "    runs = list(runs)\n",
    "    for run in runs:\n",
    "        trace = client.list_runs(run_ids=[run.trace_id])\n",
    "        ts = 0\n",
    "        latency = -1\n",
    "        total_tokens = -1\n",
    "        feedbacks = {}\n",
    "\n",
    "        for t in trace:\n",
    "            latency = t.end_time - t.start_time\n",
    "            ts = t.end_time\n",
    "            latency = latency.total_seconds()\n",
    "            total_tokens = t.total_tokens\n",
    "            for f in client.list_feedback(run_ids=[t.id]):\n",
    "                feedbacks[f.key] = f.score\n",
    "                feedback_set.append(f.key)\n",
    "            break\n",
    "\n",
    "        pro = client.read_project(project_id=run.session_id)\n",
    "        key = pro.extra.get(\"metadata\", {}).get(metadata_key, \"\")\n",
    "        if key not in runs_by_key:\n",
    "            runs_by_key[key] = []\n",
    "        runs_by_key[key].append(RunStats(ts=ts, latency=latency, total_tokens=total_tokens, feedbacks=feedbacks))\n",
    "\n",
    "print(\"Completed\")\n",
    "print(str(runs_by_key))\n",
    "feedback_set = list(set(feedback_set))"
   ]
  },
  {
   "cell_type": "code",
   "execution_count": null,
   "id": "520e8fa8-977a-4cc7-b74e-13eac69e8fe7",
   "metadata": {},
   "outputs": [],
   "source": [
    "import matplotlib.pyplot as main_plt\n",
    "import math\n",
    "main_plt.rcParams[\"figure.figsize\"] = (12, 12)\n",
    "import matplotlib.dates as mdates\n",
    "types = [\"latency\", \"total_tokens\"] + list(feedback_set)\n",
    "fig, axs = main_plt.subplots(math.ceil(len(types) / 2), 2)\n",
    "flat = axs.flat\n",
    "for i, type in enumerate(types):\n",
    "    plt = flat[i]\n",
    "    min_ts = None\n",
    "    max_ts = None\n",
    "    for key in runs_by_key.keys():\n",
    "        values = runs_by_key[key]\n",
    "        values = sorted(values, key=lambda v: v.ts)\n",
    "        if type == \"latency\":\n",
    "            y = [run.latency for run in values]\n",
    "        elif type == \"total_tokens\":\n",
    "            y = [run.total_tokens for run in values]\n",
    "        else:\n",
    "            y = [(run.feedbacks[type] if type in run.feedbacks else -1) for run in values]            \n",
    "        x = [run.ts for run in values]\n",
    "        if min_ts is None:\n",
    "            min_ts = min(x)\n",
    "        else:\n",
    "            min_ts = min(min(x), min_ts)\n",
    "        if max_ts is None:\n",
    "            max_ts = max(x)\n",
    "        else:\n",
    "            max_ts = max(max(x), max_ts)\n",
    "        plt.plot(x, y, '-', lw=2, label=key)\n",
    "\n",
    "\n",
    "    if type == \"latency\":\n",
    "        ylabel = \"Latency (s)\"\n",
    "    elif type == \"total_tokens\":\n",
    "        ylabel = \"Total Tokens\"\n",
    "    else:\n",
    "        ylabel = type\n",
    "    plt.set(xlabel=\"Time\", ylabel=ylabel, title=ylabel)\n",
    "    min_ts = min_ts.replace(second=0)\n",
    "    max_ts = max_ts.replace(second=0)\n",
    "    \n",
    "    plt.set_xlim([min_ts, max_ts])\n",
    "    plt.set_xticks([min_ts, max_ts])\n",
    "    \n",
    "    plt.xaxis.set_major_formatter(mdates.DateFormatter('%Y-%m-%d'))\n",
    "    plt.legend()\n",
    "\n",
    "fig.tight_layout()\n",
    "main_plt.show()"
   ]
  },
  {
   "cell_type": "code",
   "execution_count": null,
   "id": "c9c7165d-b1dc-4bd7-b981-04b29d214e94",
   "metadata": {},
   "outputs": [],
   "source": []
  }
 ],
 "metadata": {
  "kernelspec": {
   "display_name": "Python 3 (ipykernel)",
   "language": "python",
   "name": "python3"
  },
  "language_info": {
   "codemirror_mode": {
    "name": "ipython",
    "version": 3
   },
   "file_extension": ".py",
   "mimetype": "text/x-python",
   "name": "python",
   "nbconvert_exporter": "python",
   "pygments_lexer": "ipython3",
   "version": "3.11.7"
  }
 },
 "nbformat": 4,
 "nbformat_minor": 5
}
